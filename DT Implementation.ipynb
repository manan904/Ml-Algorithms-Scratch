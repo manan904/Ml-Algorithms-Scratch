{
 "cells": [
  {
   "cell_type": "code",
   "execution_count": 1,
   "metadata": {
    "collapsed": true
   },
   "outputs": [],
   "source": [
    "import pandas as pd\n",
    "import math"
   ]
  },
  {
   "cell_type": "code",
   "execution_count": 2,
   "metadata": {
    "collapsed": true
   },
   "outputs": [],
   "source": [
    "def entropy(p,total):\n",
    "    ent=-((p/total)*(math.log(p/total,2)))\n",
    "    return ent"
   ]
  },
  {
   "cell_type": "code",
   "execution_count": 3,
   "metadata": {
    "collapsed": true
   },
   "outputs": [],
   "source": [
    "def splitInfo(d,total):\n",
    "    si=-((d/total)*(math.log(d/total,2)))\n",
    "    return si"
   ]
  },
  {
   "cell_type": "code",
   "execution_count": 4,
   "metadata": {},
   "outputs": [],
   "source": [
    "def gain(X,y,f):\n",
    "    ig=0\n",
    "    si=0\n",
    "    for s in set(X.loc[:,f]):\n",
    "        ig+=entropy(y.count(s),len(X))\n",
    "        si+=splitInfo(sum(X[f]==s),len(X))\n",
    "    return ig"
   ]
  },
  {
   "cell_type": "code",
   "execution_count": 5,
   "metadata": {},
   "outputs": [],
   "source": [
    "def dt(X,y,features):\n",
    "    print()\n",
    "    lev=3-len(set(X['X2']))\n",
    "    X=X.reset_index(drop=True)\n",
    "    maxgain=0\n",
    "    feat='-1'\n",
    "    if len(set(y))==1:\n",
    "        print(\"Level\",lev)\n",
    "        for c in set(y):\n",
    "            print(\"Count of\",c,\"=\",y.count(c))\n",
    "        print(\"Information Gain/Entropy=\",maxgain)\n",
    "        print(\"Leaf Node\")\n",
    "        return maxgain,feat\n",
    "    elif len(features)==0:\n",
    "        print(\"Level\",lev)\n",
    "        for c in set(y):\n",
    "            print(\"Count of\",c,\"=\",y.count(c))\n",
    "        print(\"Information Gain/Entropy=\",maxgain)\n",
    "        print(\"Leaf Node\")\n",
    "        return maxgain,feat\n",
    "    for f in features:\n",
    "        ig=gain(X,y,f)\n",
    "        if ig>maxgain:\n",
    "            maxgain=ig\n",
    "            feat=f\n",
    "    print(\"Level\",2-len(features))\n",
    "    for c in set(y):\n",
    "        print(\"Count of\",c,\"=\",y.count(c))\n",
    "    print(\"Information Gain/Entropy=\",maxgain)\n",
    "    print(\"Splitting on Feature\",feat)\n",
    "    features.remove(feat)\n",
    "    for l in set(X.loc[:,feat]):\n",
    "        t=list(y[i] for i in X.loc[df[feat] == l].index.tolist())\n",
    "        dt(X.loc[df[feat] == l],t,features)"
   ]
  },
  {
   "cell_type": "code",
   "execution_count": 6,
   "metadata": {},
   "outputs": [
    {
     "data": {
      "text/html": [
       "<div>\n",
       "<style>\n",
       "    .dataframe thead tr:only-child th {\n",
       "        text-align: right;\n",
       "    }\n",
       "\n",
       "    .dataframe thead th {\n",
       "        text-align: left;\n",
       "    }\n",
       "\n",
       "    .dataframe tbody tr th {\n",
       "        vertical-align: top;\n",
       "    }\n",
       "</style>\n",
       "<table border=\"1\" class=\"dataframe\">\n",
       "  <thead>\n",
       "    <tr style=\"text-align: right;\">\n",
       "      <th></th>\n",
       "      <th>X1</th>\n",
       "      <th>X2</th>\n",
       "      <th>y</th>\n",
       "    </tr>\n",
       "  </thead>\n",
       "  <tbody>\n",
       "    <tr>\n",
       "      <th>0</th>\n",
       "      <td>1</td>\n",
       "      <td>1</td>\n",
       "      <td>1</td>\n",
       "    </tr>\n",
       "    <tr>\n",
       "      <th>1</th>\n",
       "      <td>1</td>\n",
       "      <td>0</td>\n",
       "      <td>1</td>\n",
       "    </tr>\n",
       "    <tr>\n",
       "      <th>2</th>\n",
       "      <td>0</td>\n",
       "      <td>1</td>\n",
       "      <td>1</td>\n",
       "    </tr>\n",
       "    <tr>\n",
       "      <th>3</th>\n",
       "      <td>0</td>\n",
       "      <td>0</td>\n",
       "      <td>0</td>\n",
       "    </tr>\n",
       "  </tbody>\n",
       "</table>\n",
       "</div>"
      ],
      "text/plain": [
       "   X1  X2  y\n",
       "0   1   1  1\n",
       "1   1   0  1\n",
       "2   0   1  1\n",
       "3   0   0  0"
      ]
     },
     "execution_count": 6,
     "metadata": {},
     "output_type": "execute_result"
    }
   ],
   "source": [
    "df=[[1,1,1],[1,0,1],[0,1,1],[0,0,0]]\n",
    "df=pd.DataFrame(df,columns=['X1','X2','y'])\n",
    "df"
   ]
  },
  {
   "cell_type": "code",
   "execution_count": 7,
   "metadata": {},
   "outputs": [
    {
     "data": {
      "text/plain": [
       "[1, 1, 1, 0]"
      ]
     },
     "execution_count": 7,
     "metadata": {},
     "output_type": "execute_result"
    }
   ],
   "source": [
    "X=df.iloc[:,0:2]\n",
    "y=list(df.iloc[:,2])\n",
    "features=['X1','X2']\n",
    "#Y=pd.DataFrame(Y)\n",
    "y"
   ]
  },
  {
   "cell_type": "code",
   "execution_count": 8,
   "metadata": {},
   "outputs": [
    {
     "name": "stdout",
     "output_type": "stream",
     "text": [
      "\n",
      "Level 0\n",
      "Count of 0 = 1\n",
      "Count of 1 = 3\n",
      "Information Gain/Entropy= 0.8112781244591328\n",
      "Splitting on Feature X1\n",
      "\n",
      "Level 1\n",
      "Count of 0 = 1\n",
      "Count of 1 = 1\n",
      "Information Gain/Entropy= 1.0\n",
      "Splitting on Feature X2\n",
      "\n",
      "Level 2\n",
      "Count of 0 = 1\n",
      "Information Gain/Entropy= 0\n",
      "Leaf Node\n",
      "\n",
      "Level 2\n",
      "Count of 1 = 1\n",
      "Information Gain/Entropy= 0\n",
      "Leaf Node\n",
      "\n",
      "Level 1\n",
      "Count of 1 = 2\n",
      "Information Gain/Entropy= 0\n",
      "Leaf Node\n"
     ]
    }
   ],
   "source": [
    "dt(X,y,features)"
   ]
  },
  {
   "cell_type": "code",
   "execution_count": null,
   "metadata": {
    "collapsed": true
   },
   "outputs": [],
   "source": []
  }
 ],
 "metadata": {
  "kernelspec": {
   "display_name": "Python 3",
   "language": "python",
   "name": "python3"
  },
  "language_info": {
   "codemirror_mode": {
    "name": "ipython",
    "version": 3
   },
   "file_extension": ".py",
   "mimetype": "text/x-python",
   "name": "python",
   "nbconvert_exporter": "python",
   "pygments_lexer": "ipython3",
   "version": "3.6.3"
  }
 },
 "nbformat": 4,
 "nbformat_minor": 2
}
